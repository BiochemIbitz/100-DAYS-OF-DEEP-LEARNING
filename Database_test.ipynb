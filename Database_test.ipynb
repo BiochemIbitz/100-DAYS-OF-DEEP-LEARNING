{
  "nbformat": 4,
  "nbformat_minor": 0,
  "metadata": {
    "colab": {
      "provenance": [],
      "authorship_tag": "ABX9TyOJvTu5tRCZt3ciQb/rVyVC",
      "include_colab_link": true
    },
    "kernelspec": {
      "name": "python3",
      "display_name": "Python 3"
    },
    "language_info": {
      "name": "python"
    }
  },
  "cells": [
    {
      "cell_type": "markdown",
      "metadata": {
        "id": "view-in-github",
        "colab_type": "text"
      },
      "source": [
        "<a href=\"https://colab.research.google.com/github/BiochemIbitz/100-DAYS-OF-DEEP-LEARNING/blob/main/Database_test.ipynb\" target=\"_parent\"><img src=\"https://colab.research.google.com/assets/colab-badge.svg\" alt=\"Open In Colab\"/></a>"
      ]
    },
    {
      "cell_type": "code",
      "execution_count": null,
      "metadata": {
        "id": "YOGxbK-LeWzt"
      },
      "outputs": [],
      "source": [
        "import csv\n",
        "import uuid\n",
        "from datetime import datetime\n",
        "from pathlib import Path\n",
        "\n",
        "class TransactionDatabase:\n",
        "    def __init__(self, db_path=\"database/transactions.csv\"):\n",
        "        self.db_path = Path(db_path)\n",
        "        self._ensure_db_exists()\n",
        "\n",
        "    def _ensure_db_exists(self):\n",
        "        \"\"\"Create the CSV file if it doesn't exist\"\"\"\n",
        "        if not self.db_path.parent.exists():\n",
        "            self.db_path.parent.mkdir(parents=True)\n",
        "\n",
        "        if not self.db_path.exists():\n",
        "            with open(self.db_path, 'w', newline='') as file:\n",
        "                writer = csv.writer(file)\n",
        "                writer.writerow(['order_id', 'unique_link', 'customer_name', 'amount', 'status', 'created_at'])\n",
        "\n",
        "    def create_order(self, customer_name: str, amount: float) -> str:\n",
        "        \"\"\"Create a new order and return the unique link\"\"\"\n",
        "        order_id = str(uuid.uuid4())\n",
        "        unique_link = f\"order_{order_id[:8]}\"\n",
        "\n",
        "        with open(self.db_path, 'a', newline='') as file:\n",
        "            writer = csv.writer(file)\n",
        "            writer.writerow([\n",
        "                order_id,\n",
        "                unique_link,\n",
        "                customer_name,\n",
        "                amount,\n",
        "                'pending',\n",
        "                datetime.now().isoformat()\n",
        "            ])\n",
        "\n",
        "        return unique_link\n",
        "\n",
        "    def get_order_by_link(self, unique_link: str) -> dict:\n",
        "        \"\"\"Retrieve order details using the unique link\"\"\"\n",
        "        with open(self.db_path, 'r') as file:\n",
        "            reader = csv.DictReader(file)\n",
        "            for row in reader:\n",
        "                if row['unique_link'] == unique_link:\n",
        "                    return row\n",
        "        return None\n",
        "\n",
        "    def update_order_status(self, unique_link: str, new_status: str) -> bool:\n",
        "        \"\"\"Update the status of an order\"\"\"\n",
        "        rows = []\n",
        "        updated = False\n",
        "\n",
        "        with open(self.db_path, 'r') as file:\n",
        "            reader = csv.DictReader(file)\n",
        "            headers = reader.fieldnames\n",
        "            for row in reader:\n",
        "                if row['unique_link'] == unique_link:\n",
        "                    row['status'] = new_status\n",
        "                    updated = True\n",
        "                rows.append(row)\n",
        "\n",
        "        if updated:\n",
        "            with open(self.db_path, 'w', newline='') as file:\n",
        "                writer = csv.DictWriter(file, fieldnames=headers)\n",
        "                writer.writeheader()\n",
        "                writer.writerows(rows)\n",
        "\n",
        "        return updated"
      ]
    },
    {
      "cell_type": "code",
      "source": [
        "from database.transaction_db import TransactionDatabase\n",
        "\n",
        "def main():\n",
        "    # Initialize the database\n",
        "    db = TransactionDatabase()\n",
        "\n",
        "    # Create a new order\n",
        "    unique_link = db.create_order(\"John Doe\", 99.99)\n",
        "    print(f\"Order created with link: {unique_link}\")\n",
        "\n",
        "    # Retrieve order details\n",
        "    order = db.get_order_by_link(unique_link)\n",
        "    print(f\"Order details: {order}\")\n",
        "\n",
        "    # Update order status\n",
        "    db.update_order_status(unique_link, \"completed\")\n",
        "\n",
        "    # Verify the update\n",
        "    updated_order = db.get_order_by_link(unique_link)\n",
        "    print(f\"Updated order details: {updated_order}\")\n",
        "\n",
        "if __name__ == \"__main__\":\n",
        "    main()"
      ],
      "metadata": {
        "colab": {
          "base_uri": "https://localhost:8080/",
          "height": 385
        },
        "id": "N5rdvXrVjFTu",
        "outputId": "8c495553-9d59-467e-8373-b19659adb308"
      },
      "execution_count": null,
      "outputs": [
        {
          "output_type": "error",
          "ename": "ModuleNotFoundError",
          "evalue": "No module named 'database'",
          "traceback": [
            "\u001b[0;31m---------------------------------------------------------------------------\u001b[0m",
            "\u001b[0;31mModuleNotFoundError\u001b[0m                       Traceback (most recent call last)",
            "\u001b[0;32m<ipython-input-4-57079dec8990>\u001b[0m in \u001b[0;36m<cell line: 1>\u001b[0;34m()\u001b[0m\n\u001b[0;32m----> 1\u001b[0;31m \u001b[0;32mfrom\u001b[0m \u001b[0mdatabase\u001b[0m\u001b[0;34m.\u001b[0m\u001b[0mtransaction_db\u001b[0m \u001b[0;32mimport\u001b[0m \u001b[0mTransactionDatabase\u001b[0m\u001b[0;34m\u001b[0m\u001b[0;34m\u001b[0m\u001b[0m\n\u001b[0m\u001b[1;32m      2\u001b[0m \u001b[0;34m\u001b[0m\u001b[0m\n\u001b[1;32m      3\u001b[0m \u001b[0;32mdef\u001b[0m \u001b[0mmain\u001b[0m\u001b[0;34m(\u001b[0m\u001b[0;34m)\u001b[0m\u001b[0;34m:\u001b[0m\u001b[0;34m\u001b[0m\u001b[0;34m\u001b[0m\u001b[0m\n\u001b[1;32m      4\u001b[0m     \u001b[0;31m# Initialize the database\u001b[0m\u001b[0;34m\u001b[0m\u001b[0;34m\u001b[0m\u001b[0m\n\u001b[1;32m      5\u001b[0m     \u001b[0mdb\u001b[0m \u001b[0;34m=\u001b[0m \u001b[0mTransactionDatabase\u001b[0m\u001b[0;34m(\u001b[0m\u001b[0;34m)\u001b[0m\u001b[0;34m\u001b[0m\u001b[0;34m\u001b[0m\u001b[0m\n",
            "\u001b[0;31mModuleNotFoundError\u001b[0m: No module named 'database'",
            "",
            "\u001b[0;31m---------------------------------------------------------------------------\u001b[0;32m\nNOTE: If your import is failing due to a missing package, you can\nmanually install dependencies using either !pip or !apt.\n\nTo view examples of installing some common dependencies, click the\n\"Open Examples\" button below.\n\u001b[0;31m---------------------------------------------------------------------------\u001b[0m\n"
          ],
          "errorDetails": {
            "actions": [
              {
                "action": "open_url",
                "actionText": "Open Examples",
                "url": "/notebooks/snippets/importing_libraries.ipynb"
              }
            ]
          }
        }
      ]
    },
    {
      "cell_type": "code",
      "source": [
        "from database.transaction_db import TransactionDatabase\n",
        "\n",
        "def main():\n",
        "    # Initialize the database\n",
        "    db = TransactionDatabase()\n",
        "\n",
        "    # Create a new order\n",
        "    unique_link = db.create_order(\"John Doe\", 99.99)\n",
        "    print(f\"Order created with link: {unique_link}\")\n",
        "\n",
        "    # Retrieve order details\n",
        "    order = db.get_order_by_link(unique_link)\n",
        "    print(f\"Order details: {order}\")\n",
        "\n",
        "    # Update order status\n",
        "    db.update_order_status(unique_link, \"completed\")\n",
        "\n",
        "    # Verify the update\n",
        "    updated_order = db.get_order_by_link(unique_link)\n",
        "    print(f\"Updated order details: {updated_order}\")\n",
        "\n",
        "if __name__ == \"__main__\":\n",
        "    main()"
      ],
      "metadata": {
        "colab": {
          "base_uri": "https://localhost:8080/",
          "height": 385
        },
        "id": "IIeH_8Ykeaqc",
        "outputId": "d82b606e-1cc3-4d53-fe99-4129bf0eff14"
      },
      "execution_count": null,
      "outputs": [
        {
          "output_type": "error",
          "ename": "ModuleNotFoundError",
          "evalue": "No module named 'database'",
          "traceback": [
            "\u001b[0;31m---------------------------------------------------------------------------\u001b[0m",
            "\u001b[0;31mModuleNotFoundError\u001b[0m                       Traceback (most recent call last)",
            "\u001b[0;32m<ipython-input-2-57079dec8990>\u001b[0m in \u001b[0;36m<cell line: 1>\u001b[0;34m()\u001b[0m\n\u001b[0;32m----> 1\u001b[0;31m \u001b[0;32mfrom\u001b[0m \u001b[0mdatabase\u001b[0m\u001b[0;34m.\u001b[0m\u001b[0mtransaction_db\u001b[0m \u001b[0;32mimport\u001b[0m \u001b[0mTransactionDatabase\u001b[0m\u001b[0;34m\u001b[0m\u001b[0;34m\u001b[0m\u001b[0m\n\u001b[0m\u001b[1;32m      2\u001b[0m \u001b[0;34m\u001b[0m\u001b[0m\n\u001b[1;32m      3\u001b[0m \u001b[0;32mdef\u001b[0m \u001b[0mmain\u001b[0m\u001b[0;34m(\u001b[0m\u001b[0;34m)\u001b[0m\u001b[0;34m:\u001b[0m\u001b[0;34m\u001b[0m\u001b[0;34m\u001b[0m\u001b[0m\n\u001b[1;32m      4\u001b[0m     \u001b[0;31m# Initialize the database\u001b[0m\u001b[0;34m\u001b[0m\u001b[0;34m\u001b[0m\u001b[0m\n\u001b[1;32m      5\u001b[0m     \u001b[0mdb\u001b[0m \u001b[0;34m=\u001b[0m \u001b[0mTransactionDatabase\u001b[0m\u001b[0;34m(\u001b[0m\u001b[0;34m)\u001b[0m\u001b[0;34m\u001b[0m\u001b[0;34m\u001b[0m\u001b[0m\n",
            "\u001b[0;31mModuleNotFoundError\u001b[0m: No module named 'database'",
            "",
            "\u001b[0;31m---------------------------------------------------------------------------\u001b[0;32m\nNOTE: If your import is failing due to a missing package, you can\nmanually install dependencies using either !pip or !apt.\n\nTo view examples of installing some common dependencies, click the\n\"Open Examples\" button below.\n\u001b[0;31m---------------------------------------------------------------------------\u001b[0m\n"
          ],
          "errorDetails": {
            "actions": [
              {
                "action": "open_url",
                "actionText": "Open Examples",
                "url": "/notebooks/snippets/importing_libraries.ipynb"
              }
            ]
          }
        }
      ]
    },
    {
      "cell_type": "code",
      "source": [],
      "metadata": {
        "id": "_kPodsggempI"
      },
      "execution_count": null,
      "outputs": []
    }
  ]
}