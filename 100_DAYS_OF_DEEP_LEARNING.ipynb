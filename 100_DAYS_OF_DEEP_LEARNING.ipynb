{
  "nbformat": 4,
  "nbformat_minor": 0,
  "metadata": {
    "colab": {
      "provenance": [],
      "authorship_tag": "ABX9TyMAOwv0OFV+dTjsiEUaupFa",
      "include_colab_link": true
    },
    "kernelspec": {
      "name": "python3",
      "display_name": "Python 3"
    },
    "language_info": {
      "name": "python"
    }
  },
  "cells": [
    {
      "cell_type": "markdown",
      "metadata": {
        "id": "view-in-github",
        "colab_type": "text"
      },
      "source": [
        "<a href=\"https://colab.research.google.com/github/BiochemIbitz/100-DAYS-OF-DEEP-LEARNING/blob/main/100_DAYS_OF_DEEP_LEARNING.ipynb\" target=\"_parent\"><img src=\"https://colab.research.google.com/assets/colab-badge.svg\" alt=\"Open In Colab\"/></a>"
      ]
    },
    {
      "cell_type": "markdown",
      "source": [
        "Artificial Intelligence: Any technique that enables computer to mimic human behaviour\n",
        "Machine leanring is a subset of Artificial Intelligence: it is the ability to learn without explicity being programmed.\n",
        "Deep learning is the subset of Machine learning: Extract patterns from data using neural networks.\n",
        "\n",
        "Projects: Music Generation\n",
        "          Computer Vision\n",
        "          Large Learning Models"
      ],
      "metadata": {
        "id": "YB6U-Bhg_xcP"
      }
    },
    {
      "cell_type": "code",
      "source": [
        "Why Big ML\n"
      ],
      "metadata": {
        "id": "JWKMGFEb_8PV"
      },
      "execution_count": null,
      "outputs": []
    },
    {
      "cell_type": "markdown",
      "source": [
        "why ML\n",
        "1. Big Data: Large Datasets; Easier collection and Storage\n",
        "2. Hardware: Graphics processing Units(GPUs) , Massively paralleizable\n",
        "3. Software: Improved Techniques; New models: Toolboxes\n"
      ],
      "metadata": {
        "id": "P6JofrArAC_-"
      }
    },
    {
      "cell_type": "markdown",
      "source": [
        "The fundamental building block of a neural network is a perceptron.\n",
        "\n",
        "The structural"
      ],
      "metadata": {
        "id": "zbM3_eUmAije"
      }
    },
    {
      "cell_type": "code",
      "source": [
        "##Densed Layer From Scratch\n",
        "\n",
        "class MyDenseLayer (tf keras layers Layer):\n",
        "  def __init__(self, input_dim, output_dim):\n",
        "    super (MyDenseLayer, self).__init__()\n",
        "\n",
        "    #initializing weights and bias\n",
        "    self.weights = 0.10 * np.random.randn(n_inputs, n_neurons)\n",
        "    self.biases = np.zeros((1, n_neurons))"
      ],
      "metadata": {
        "id": "k4KV1QATxPbp"
      },
      "execution_count": null,
      "outputs": []
    },
    {
      "cell_type": "code",
      "source": [],
      "metadata": {
        "id": "ApOEes-IAsY9"
      },
      "execution_count": null,
      "outputs": []
    }
  ]
}