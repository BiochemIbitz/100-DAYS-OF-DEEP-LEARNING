{
  "nbformat": 4,
  "nbformat_minor": 0,
  "metadata": {
    "colab": {
      "provenance": [],
      "authorship_tag": "ABX9TyMP0w0wau+gycRfNgZsVQY3",
      "include_colab_link": true
    },
    "kernelspec": {
      "name": "python3",
      "display_name": "Python 3"
    },
    "language_info": {
      "name": "python"
    }
  },
  "cells": [
    {
      "cell_type": "markdown",
      "metadata": {
        "id": "view-in-github",
        "colab_type": "text"
      },
      "source": [
        "<a href=\"https://colab.research.google.com/github/BiochemIbitz/100-DAYS-OF-DEEP-LEARNING/blob/main/100_DAYS_OF_DEEP_LEARNING.ipynb\" target=\"_parent\"><img src=\"https://colab.research.google.com/assets/colab-badge.svg\" alt=\"Open In Colab\"/></a>"
      ]
    },
    {
      "cell_type": "markdown",
      "source": [
        "Artificial Intelligence: Any technique that enables computer to mimic human behaviour\n",
        "Machine leanring is a subset of Artificial Intelligence: it is the ability to learn without explicity being programmed.\n",
        "Deep learning is the subset of Machine learning: Extract patterns from data using neural networks.\n",
        "\n",
        "Projects: Music Generation\n",
        "          Computer Vision\n",
        "          Large Learning Models"
      ],
      "metadata": {
        "id": "YB6U-Bhg_xcP"
      }
    },
    {
      "cell_type": "code",
      "source": [
        "Why Big ML\n"
      ],
      "metadata": {
        "id": "JWKMGFEb_8PV"
      },
      "execution_count": null,
      "outputs": []
    },
    {
      "cell_type": "markdown",
      "source": [
        "why ML\n",
        "1. Big Data: Large Datasets; Easier collection and Storage\n",
        "2. Hardware: Graphics processing Units(GPUs) , Massively paralleizable\n",
        "3. Software: Improved Techniques; New models: Toolboxes\n"
      ],
      "metadata": {
        "id": "P6JofrArAC_-"
      }
    },
    {
      "cell_type": "markdown",
      "source": [
        "The fundamental building block of a neural network is a perceptron.\n",
        "\n",
        "The structural"
      ],
      "metadata": {
        "id": "zbM3_eUmAije"
      }
    },
    {
      "cell_type": "code",
      "source": [
        "##Visualization of a sigmoid function\n",
        "import numpy as np\n",
        "import matplotlib.pyplot as plt\n",
        "\n",
        "# Define the sigmoid function\n",
        "def sigmoid(x):\n",
        "    return 1 / (1 + np.exp(-x))\n",
        "\n",
        "# Generate an array of x values\n",
        "x = np.linspace(-10, 10, 400)\n",
        "\n",
        "# Compute the sigmoid function for each x value\n",
        "y = sigmoid(x)\n",
        "\n",
        "# Plot the sigmoid function\n",
        "plt.plot(x, y)\n",
        "plt.title('Sigmoid Function')\n",
        "plt.xlabel('x')\n",
        "plt.ylabel('σ(x)')\n",
        "plt.grid(True)\n",
        "plt.show()\n"
      ],
      "metadata": {
        "colab": {
          "base_uri": "https://localhost:8080/",
          "height": 472
        },
        "id": "TqKWdRhGBrBj",
        "outputId": "e01dceef-3bb4-451d-9ede-7496a1884e16"
      },
      "execution_count": null,
      "outputs": [
        {
          "output_type": "display_data",
          "data": {
            "text/plain": [
              "<Figure size 640x480 with 1 Axes>"
            ],
            "image/png": "[encoded data removed]"
          },
          "metadata": {}
        }
      ]
    },
    {
      "cell_type": "code",
      "source": [
        "##Densed Layer From Scratch\n",
        "\n",
        "import tensorflow as tf\n",
        "layer =tf.keras.layers.Dense(units = 2)\n",
        "class MyDenseLayer (tf.keras.layers.Layer):\n",
        "  def __init__(self, input_dim, output_dim):\n",
        "    super (MyDenseLayer, self).__init__()\n",
        "\n",
        "    #initializing weights and bias\n",
        "    self.W = self.add_weight ([input_dim, output_dim])\n",
        "    self.b = self.add_weight ([1, output_dim])\n",
        "\n",
        "  def call (self, inputs):\n",
        "    #forward propergates the input\n",
        "    z = tf.matmul (inputs, self.W) + self.b\n",
        "\n",
        "    #applies the nonlinear activation function\n",
        "    output = tf.math.sigmoid (z)\n",
        "    return output"
      ],
      "metadata": {
        "id": "k4KV1QATxPbp"
      },
      "execution_count": null,
      "outputs": []
    },
    {
      "cell_type": "code",
      "source": [
        "#Example: will i pass this class?\n",
        "#Gradient descent is an optimization algorithm commonly used in machine learning and neural networks to minimize a cost (or loss) function. The goal of gradient descent is to find the parameters (weights) of a model that result in the lowest possible cost.\n"
      ],
      "metadata": {
        "id": "ApOEes-IAsY9"
      },
      "execution_count": 1,
      "outputs": []
    },
    {
      "cell_type": "code",
      "source": [
        "import tensorflow as tf\n",
        "#pick your favourite optimizer\n",
        "optimizer  = tf.keras.optimizers.SGD(learning_rate = 0.1)\n",
        "while True: #loop forever\n",
        "  prediction = model.(x)\n",
        "  with tf.gradientTape() as tape:\n",
        "    #compute the loss\n",
        "    loss = compute_loss(y, prediction)\n",
        "    #update the weight using gradient\n",
        "    grads = tape.gradient(loss, model.trainable_variables)\n",
        "    optimizer.apply_gradients(zip(grads, model.trainable_variables))\n",
        "    if loss < 0.01:\n",
        "      break"
      ],
      "metadata": {
        "colab": {
          "base_uri": "https://localhost:8080/",
          "height": 106
        },
        "id": "iAhkk16-8h24",
        "outputId": "2e38059c-941a-4918-ede2-f5f1d90d346a"
      },
      "execution_count": 2,
      "outputs": [
        {
          "output_type": "error",
          "ename": "SyntaxError",
          "evalue": "invalid syntax (<ipython-input-2-e667d16d96ac>, line 5)",
          "traceback": [
            "\u001b[0;36m  File \u001b[0;32m\"<ipython-input-2-e667d16d96ac>\"\u001b[0;36m, line \u001b[0;32m5\u001b[0m\n\u001b[0;31m    prediction = model.(x)\u001b[0m\n\u001b[0m                       ^\u001b[0m\n\u001b[0;31mSyntaxError\u001b[0m\u001b[0;31m:\u001b[0m invalid syntax\n"
          ]
        }
      ]
    },
    {
      "cell_type": "code",
      "source": [],
      "metadata": {
        "id": "uvess8XH_wxn"
      },
      "execution_count": null,
      "outputs": []
    }
  ]
}